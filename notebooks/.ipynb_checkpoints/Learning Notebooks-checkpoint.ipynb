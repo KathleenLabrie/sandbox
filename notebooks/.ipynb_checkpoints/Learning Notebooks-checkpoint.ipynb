{
 "metadata": {
  "name": "",
  "signature": "sha256:fc0ec388e5491321a453b805292eec733eac2b078778e839dd8b707ec3e474e9"
 },
 "nbformat": 3,
 "nbformat_minor": 0,
 "worksheets": [
  {
   "cells": [
    {
     "cell_type": "markdown",
     "metadata": {},
     "source": [
      "What the heck happened to the previous notebook?\n",
      "\n",
      "Latex:  $E = mc^2$"
     ]
    },
    {
     "cell_type": "code",
     "collapsed": false,
     "input": [
      "print \"hello world!\""
     ],
     "language": "python",
     "metadata": {},
     "outputs": [
      {
       "output_type": "stream",
       "stream": "stdout",
       "text": [
        "hello world!\n"
       ]
      }
     ],
     "prompt_number": 1
    },
    {
     "cell_type": "code",
     "collapsed": false,
     "input": [],
     "language": "python",
     "metadata": {},
     "outputs": []
    }
   ],
   "metadata": {}
  }
 ]
}