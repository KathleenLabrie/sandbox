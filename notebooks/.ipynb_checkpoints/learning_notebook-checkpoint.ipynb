{
 "metadata": {
  "name": "",
  "signature": "sha256:9dbfeb81be8a5d55645551c9be3d9ac161f882cac5041f3f0253fb8df434e245"
 },
 "nbformat": 3,
 "nbformat_minor": 0,
 "worksheets": [
  {
   "cells": [
    {
     "cell_type": "heading",
     "level": 1,
     "metadata": {},
     "source": [
      "Hello World Example"
     ]
    },
    {
     "cell_type": "markdown",
     "metadata": {},
     "source": [
      "No idea what I'm doing here."
     ]
    },
    {
     "cell_type": "code",
     "collapsed": false,
     "input": [
      "print 'hello world!'"
     ],
     "language": "python",
     "metadata": {},
     "outputs": []
    }
   ],
   "metadata": {}
  }
 ]
}